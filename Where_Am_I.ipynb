{
 "cells": [
  {
   "cell_type": "markdown",
   "metadata": {},
   "source": [
    "### A simple geolocation app to show the location of the computer running this code."
   ]
  },
  {
   "cell_type": "code",
   "execution_count": 13,
   "metadata": {
    "collapsed": false
   },
   "outputs": [],
   "source": [
    "import urllib\n",
    "import json"
   ]
  },
  {
   "cell_type": "code",
   "execution_count": 14,
   "metadata": {
    "collapsed": false
   },
   "outputs": [
    {
     "name": "stdout",
     "output_type": "stream",
     "text": [
      "You are near: Islamabad, Islamabad, PK\n",
      "     Lat/Lng: 33.6957N, 73.0113E\n"
     ]
    }
   ],
   "source": [
    "try:\n",
    "    data = json.load(urllib.urlopen('http://ipinfo.io/json'))\n",
    "except Exception as e:\n",
    "    print(e)\n",
    "else:\n",
    "    print('You are near: {city}, {region}, {country}'.format(**data))\n",
    "    print('     Lat/Lng: {}E'.format(data['loc'].replace(',','N, ')))"
   ]
  },
  {
   "cell_type": "code",
   "execution_count": null,
   "metadata": {
    "collapsed": true
   },
   "outputs": [],
   "source": []
  }
 ],
 "metadata": {
  "kernelspec": {
   "display_name": "Python [conda root]",
   "language": "python",
   "name": "conda-root-py"
  },
  "language_info": {
   "codemirror_mode": {
    "name": "ipython",
    "version": 2
   },
   "file_extension": ".py",
   "mimetype": "text/x-python",
   "name": "python",
   "nbconvert_exporter": "python",
   "pygments_lexer": "ipython2",
   "version": "2.7.12"
  }
 },
 "nbformat": 4,
 "nbformat_minor": 1
}
